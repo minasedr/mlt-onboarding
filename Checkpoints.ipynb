{
 "cells": [
  {
   "cell_type": "markdown",
   "id": "70d68298",
   "metadata": {
    "id": "70d68298"
   },
   "source": [
    "# Checkpoints"
   ]
  },
  {
   "cell_type": "markdown",
   "id": "67d0260a",
   "metadata": {
    "id": "67d0260a"
   },
   "source": [
    "**CP1**:\n",
    "Given the list $[A, B, C]$, use the `itertools` module to generate all possible\n",
    "combinations of 2 elements.\n",
    "\n",
    "**Expected Output**:\n",
    "$$\n",
    " (A, B) \\\\\n",
    " (A, C) \\\\\n",
    " (B, C)\n",
    "$$"
   ]
  },
  {
   "cell_type": "code",
   "execution_count": 12,
   "id": "9dd63d67",
   "metadata": {
    "id": "9dd63d67"
   },
   "outputs": [
    {
     "name": "stdout",
     "output_type": "stream",
     "text": [
      "[('A', 'B'), ('A', 'C'), ('B', 'C')]\n"
     ]
    }
   ],
   "source": [
    "# your code here\n",
    "import itertools\n",
    "my_list = ['A', 'B', 'C']\n",
    "combinations = list(itertools.combinations(my_list, 2))\n",
    "\n",
    "print(combinations)"
   ]
  },
  {
   "cell_type": "markdown",
   "id": "31c15dce",
   "metadata": {
    "id": "31c15dce"
   },
   "source": [
    "**CP2**:\n",
    "Use the `itertools` module to create a sequence that cycles through\n",
    "['Python', 'is', 'fun'] infinitely. Print the first 10 elements of the sequence.\n",
    "\n",
    "**Expected Output**:\n",
    "$$\n",
    "Python \\\\\n",
    "is\\\\\n",
    "fun\\\\\n",
    "Python\\\\\n",
    "is\\\\\n",
    "fun\\\\\n",
    "Python\\\\\n",
    "is\\\\\n",
    "fun\\\\\n",
    "Python\n",
    "$$"
   ]
  },
  {
   "cell_type": "code",
   "execution_count": 13,
   "id": "c75f246c",
   "metadata": {
    "id": "c75f246c"
   },
   "outputs": [
    {
     "name": "stdout",
     "output_type": "stream",
     "text": [
      "Python\n",
      "is\n",
      "fun\n",
      "Python\n",
      "is\n",
      "fun\n",
      "Python\n",
      "is\n",
      "fun\n",
      "Python\n"
     ]
    }
   ],
   "source": [
    "#your code here\n",
    "import itertools\n",
    "\n",
    "sequence = itertools.cycle(['Python', 'is', 'fun'])\n",
    "\n",
    "for _ in range(10):\n",
    "    element = next(sequence)\n",
    "    print(element)"
   ]
  },
  {
   "cell_type": "markdown",
   "id": "cbef0f63",
   "metadata": {
    "id": "cbef0f63"
   },
   "source": [
    "**CP3**:\n",
    "Use the `glob` module to list all python (.py) files in your current working directory.\n",
    "\n",
    "\n"
   ]
  },
  {
   "cell_type": "code",
   "execution_count": 14,
   "id": "3e62d5b4",
   "metadata": {
    "id": "3e62d5b4"
   },
   "outputs": [],
   "source": [
    "# your code here\n",
    "import glob\n",
    "\n",
    "python_files = glob.glob('*.py')\n",
    "\n",
    "for file in python_files:\n",
    "    print(file)"
   ]
  },
  {
   "cell_type": "markdown",
   "id": "d266d698",
   "metadata": {
    "id": "d266d698"
   },
   "source": [
    "**CP4**: You are given the following HTML content below. Write a function that uses BeautifulSoup to parse the HTML and extract the text inside the   '$<p>$'   tag.\n"
   ]
  },
  {
   "cell_type": "code",
   "execution_count": 15,
   "id": "27f941c8",
   "metadata": {
    "id": "27f941c8"
   },
   "outputs": [],
   "source": [
    "#<html><body><div class='main'><h1>Welcome to AI</h1><p>AI is transforming the world</p></div></body></html>"
   ]
  },
  {
   "cell_type": "code",
   "execution_count": 19,
   "id": "6fb1cdcf",
   "metadata": {
    "id": "6fb1cdcf"
   },
   "outputs": [
    {
     "name": "stdout",
     "output_type": "stream",
     "text": [
      "AI is transforming the world\n"
     ]
    }
   ],
   "source": [
    "#your code here\n",
    "from bs4 import BeautifulSoup\n",
    "\n",
    "def extract_paragraph_text(html_content):\n",
    "    soup = BeautifulSoup(html_content, 'html.parser')\n",
    "    paragraph = soup.find('p')\n",
    "    if paragraph:\n",
    "        return paragraph.get_text()\n",
    "    else:\n",
    "        return None\n",
    "\n",
    "# Example usage:\n",
    "html_content = '''\n",
    "<html>\n",
    "    <body>\n",
    "        <div class='main'>\n",
    "            <h1>Welcome to AI</h1>\n",
    "                <p>AI is transforming the world</p>\n",
    "        </div>\n",
    "    </body>\n",
    "</html>\n",
    "'''\n",
    "paragraph_text = extract_paragraph_text(html_content)\n",
    "print(paragraph_text)"
   ]
  },
  {
   "cell_type": "markdown",
   "id": "a1fce3ef",
   "metadata": {
    "id": "a1fce3ef"
   },
   "source": [
    "**CP5**: Write a function that uses the re module to replace all occurrences of the word \"AI\" with \"Artificial Intelligence\" in a given text."
   ]
  },
  {
   "cell_type": "code",
   "execution_count": 22,
   "id": "07178a2d",
   "metadata": {
    "id": "07178a2d"
   },
   "outputs": [
    {
     "name": "stdout",
     "output_type": "stream",
     "text": [
      "Artificial Intelligence is revolutionizing many industries. Artificial Intelligence algorithms are used for data analysis.\n"
     ]
    }
   ],
   "source": [
    "# your code here\n",
    "import re\n",
    "\n",
    "def replace_ai_with_artificial_intelligence(text):\n",
    "    modified_text = re.sub(r'\\bAI\\b', 'Artificial Intelligence', text)\n",
    "    return modified_text\n",
    "\n",
    "# Example usage:\n",
    "text = \"AI is revolutionizing many industries. AI algorithms are used for data analysis.\"\n",
    "\n",
    "modified_text = replace_ai_with_artificial_intelligence(text)\n",
    "print(modified_text)"
   ]
  },
  {
   "cell_type": "markdown",
   "id": "4e471de6",
   "metadata": {
    "id": "4e471de6"
   },
   "source": [
    "**CP6**: Create a numpy array of 10 zeros."
   ]
  },
  {
   "cell_type": "code",
   "execution_count": 1,
   "id": "7f6e9acb",
   "metadata": {
    "id": "7f6e9acb"
   },
   "outputs": [
    {
     "name": "stdout",
     "output_type": "stream",
     "text": [
      "[0. 0. 0. 0. 0. 0. 0. 0. 0. 0.]\n"
     ]
    }
   ],
   "source": [
    "#your code here\n",
    "import numpy as np\n",
    "\n",
    "zeros_array = np.zeros(10)\n",
    "\n",
    "print(zeros_array)"
   ]
  },
  {
   "cell_type": "markdown",
   "id": "5f52a63e",
   "metadata": {
    "id": "5f52a63e"
   },
   "source": [
    "**CP7** Create a numpy array of the integers from 10 to 49."
   ]
  },
  {
   "cell_type": "code",
   "execution_count": 2,
   "id": "ddb01e9a",
   "metadata": {
    "id": "ddb01e9a"
   },
   "outputs": [
    {
     "name": "stdout",
     "output_type": "stream",
     "text": [
      "[10 11 12 13 14 15 16 17 18 19 20 21 22 23 24 25 26 27 28 29 30 31 32 33\n",
      " 34 35 36 37 38 39 40 41 42 43 44 45 46 47 48 49]\n"
     ]
    }
   ],
   "source": [
    "#your code here\n",
    "import numpy as np\n",
    "\n",
    "int_array = np.arange(10, 50)\n",
    "\n",
    "print(int_array)"
   ]
  },
  {
   "cell_type": "markdown",
   "id": "79e4d614",
   "metadata": {
    "id": "79e4d614"
   },
   "source": [
    "**CP8**: Create a 3x3 numpy matrix, filled with values ranging from 0 to 8."
   ]
  },
  {
   "cell_type": "code",
   "execution_count": 3,
   "id": "d3eddea4",
   "metadata": {
    "id": "d3eddea4"
   },
   "outputs": [
    {
     "name": "stdout",
     "output_type": "stream",
     "text": [
      "[[0 1 2]\n",
      " [3 4 5]\n",
      " [6 7 8]]\n"
     ]
    }
   ],
   "source": [
    "#your code here\n",
    "import numpy as np\n",
    "\n",
    "matrix = np.arange(9).reshape(3, 3)\n",
    "\n",
    "print(matrix)"
   ]
  },
  {
   "cell_type": "markdown",
   "id": "1b09270f",
   "metadata": {
    "id": "1b09270f"
   },
   "source": [
    "**CP9**: Explain why machine learning models require large amounts of data? What does it mean for an amount of data to be **large**?"
   ]
  },
  {
   "cell_type": "markdown",
   "id": "eeb82741",
   "metadata": {
    "id": "a57e9726"
   },
   "source": [
    "Machine learning models require large amounts of data for several reasons:\n",
    "\n",
    "1. **Generalization**: Machine learning models aim to learn patterns and relationships in data to make predictions or classifications on new, unseen data. A larger dataset helps the model to generalize better by capturing a broader range of patterns and variations present in the real-world data. With more diverse examples, the model can learn more robust and accurate representations.\n",
    "\n",
    "2. **Complexity of the Problem**: Some machine learning tasks, such as natural language processing or image recognition, inherently involve complex patterns and high-dimensional data. To effectively capture the complexity of these tasks, a substantial amount of data is necessary. A larger dataset allows the model to learn intricate relationships, subtle nuances, and variations in the data.\n",
    "\n",
    "3. **Reducing Overfitting**: Overfitting occurs when a model becomes too specialized in capturing the idiosyncrasies and noise of the training data, resulting in poor generalization to new data. Large datasets help mitigate overfitting by providing more diverse samples and reducing the model's reliance on individual instances or peculiarities in the training set.\n",
    "\n",
    "Now, what constitutes a **large** amount of data can vary depending on the specific task, complexity, and available resources. In general, the notion of \"large\" data is relative and can be understood in comparison to the model's complexity and the inherent variability in the data.\n",
    "\n",
    "For example, in some cases, a few thousand samples might be considered a large dataset, while for more complex problems, millions or even billions of samples might be required. Additionally, the dimensionality of the data, the number of features, and the data's sparsity can also influence what is considered a large dataset.\n",
    "\n",
    "Ultimately, the goal is to provide sufficient data to capture the underlying patterns and variances in the problem domain, ensuring the model's ability to generalize well to unseen instances and produce reliable predictions or classifications."
   ]
  },
  {
   "cell_type": "markdown",
   "id": "1a357bde",
   "metadata": {
    "id": "1a357bde"
   },
   "source": [
    "**CP10**: Explain 2 ways AI can be used in an adverserial way, and what can be done to prevent it."
   ]
  },
  {
   "cell_type": "markdown",
   "id": "91298b5b",
   "metadata": {
    "id": "a9db70af"
   },
   "source": [
    "AI can be used in an adversarial way, meaning that individuals or entities can exploit AI systems to achieve malicious or harmful objectives. Here are two ways AI can be used adversarially and potential preventive measures:\n",
    "\n",
    "1. **Adversarial Attacks on AI Systems**:\n",
    "   Adversarial attacks involve manipulating or deceiving AI systems to produce incorrect or undesired outcomes. For example, in image recognition tasks, attackers can introduce imperceptible perturbations to an input image, causing the AI system to misclassify it. Adversarial attacks can also target natural language processing models, speech recognition systems, and other AI applications.\n",
    "\n",
    "   To prevent adversarial attacks, researchers and practitioners have been developing robust AI models and defense mechanisms. Some approaches include:\n",
    "   - Adversarial Training: Incorporating adversarial examples during the training process to make the model more resilient to attacks.\n",
    "   - Defensive Distillation: Applying a two-step training process that includes training a teacher model on the data and then training a distilled model to learn from the teacher's output.\n",
    "   - Input Sanitization: Preprocessing inputs to detect and remove potential adversarial perturbations.\n",
    "   - Model Interpretation: Analyzing the model's decision-making process to identify and mitigate vulnerabilities to adversarial attacks.\n",
    "\n",
    "2. **AI-generated Fake Content and Deepfakes**:\n",
    "   AI techniques, such as generative models and deep learning, can be misused to create convincing fake content, including images, videos, audio, and text. Deepfake technology, for example, enables the manipulation of visual and auditory information to create highly realistic but fabricated media.\n",
    "\n",
    "   To counter the adverse effects of AI-generated fake content, several approaches can be taken:\n",
    "   - Developing Authenticity Verification: Researchers are working on techniques to detect and verify the authenticity of media content, using forensic analysis, watermarking, or blockchain-based solutions.\n",
    "   - Enhancing Media Literacy: Raising awareness and improving media literacy can help individuals identify and critically evaluate fake content.\n",
    "   - Regulation and Policies: Governments and organizations can establish regulations and policies to combat the misuse of AI-generated fake content, addressing issues of privacy, consent, and misinformation.\n",
    "\n",
    "It's important to note that as AI advances, so do adversarial techniques, making it an ongoing challenge to stay ahead of potential misuse. A multi-faceted approach combining robust AI system design, detection and prevention mechanisms, user education, and responsible governance can help mitigate the adversarial use of AI and foster its positive impact."
   ]
  }
 ],
 "metadata": {
  "colab": {
   "provenance": []
  },
  "kernelspec": {
   "display_name": "Python 3 (ipykernel)",
   "language": "python",
   "name": "python3"
  },
  "language_info": {
   "codemirror_mode": {
    "name": "ipython",
    "version": 3
   },
   "file_extension": ".py",
   "mimetype": "text/x-python",
   "name": "python",
   "nbconvert_exporter": "python",
   "pygments_lexer": "ipython3",
   "version": "3.10.9"
  },
  "varInspector": {
   "cols": {
    "lenName": 16,
    "lenType": 16,
    "lenVar": 40
   },
   "kernels_config": {
    "python": {
     "delete_cmd_postfix": "",
     "delete_cmd_prefix": "del ",
     "library": "var_list.py",
     "varRefreshCmd": "print(var_dic_list())"
    },
    "r": {
     "delete_cmd_postfix": ") ",
     "delete_cmd_prefix": "rm(",
     "library": "var_list.r",
     "varRefreshCmd": "cat(var_dic_list()) "
    }
   },
   "types_to_exclude": [
    "module",
    "function",
    "builtin_function_or_method",
    "instance",
    "_Feature"
   ],
   "window_display": false
  }
 },
 "nbformat": 4,
 "nbformat_minor": 5
}
